{
 "cells": [
  {
   "cell_type": "code",
   "execution_count": 11,
   "metadata": {},
   "outputs": [],
   "source": [
    "nums= [-1,0,1,2,-2,-4]"
   ]
  },
  {
   "cell_type": "code",
   "execution_count": 14,
   "metadata": {},
   "outputs": [],
   "source": [
    "### returns subarray with 0 sum\n",
    "def subarray(nums):\n",
    "    out=[]\n",
    "    for i in range(len(nums)):\n",
    "    #     print(i)\n",
    "        for j in range(i+1, len(nums)+1):\n",
    "            a= nums[i:j]\n",
    "            if sum(a) ==0:\n",
    "                out.append(a)\n"
   ]
  },
  {
   "cell_type": "code",
   "execution_count": 15,
   "metadata": {},
   "outputs": [
    {
     "data": {
      "text/plain": [
       "[[-1, 0, 1], [-1, 0, 1, 2, -2], [0], [2, -2]]"
      ]
     },
     "execution_count": 15,
     "metadata": {},
     "output_type": "execute_result"
    }
   ],
   "source": [
    "out"
   ]
  },
  {
   "cell_type": "code",
   "execution_count": 19,
   "metadata": {},
   "outputs": [],
   "source": [
    "# converting roman to int\n",
    "def roman_int(s):\n",
    "    \n",
    "    search= {\n",
    "    \"I\": 1\n",
    "    , \"V\": 5\n",
    "    , \"X\": 10\n",
    "    , \"L\": 50\n",
    "    , \"C\": 100\n",
    "    , \"D\": 500\n",
    "    , \"M\": 1000\n",
    "    }\n",
    "     \n",
    "    result = 0\n",
    "    prev= 0\n",
    "    \n",
    "    for i in s:\n",
    "        \n",
    "        cur= search[i]\n",
    "        \n",
    "        if cur > prev:\n",
    "            result= result + cur - 2*prev\n",
    "            \n",
    "        else:\n",
    "            result = result + cur\n",
    "            \n",
    "        prev= cur\n",
    "        \n",
    "    return result\n",
    "             "
   ]
  },
  {
   "cell_type": "code",
   "execution_count": 1,
   "metadata": {},
   "outputs": [
    {
     "ename": "NameError",
     "evalue": "name 'roman_int' is not defined",
     "output_type": "error",
     "traceback": [
      "\u001b[1;31m---------------------------------------------------------------------------\u001b[0m",
      "\u001b[1;31mNameError\u001b[0m                                 Traceback (most recent call last)",
      "\u001b[1;32m<ipython-input-1-93a85645a327>\u001b[0m in \u001b[0;36m<module>\u001b[1;34m\u001b[0m\n\u001b[0;32m      1\u001b[0m \u001b[0ms\u001b[0m \u001b[1;33m=\u001b[0m \u001b[1;34m\"MCMXCIV\"\u001b[0m\u001b[1;33m\u001b[0m\u001b[1;33m\u001b[0m\u001b[0m\n\u001b[1;32m----> 2\u001b[1;33m \u001b[0mroman_int\u001b[0m\u001b[1;33m(\u001b[0m\u001b[0ms\u001b[0m\u001b[1;33m)\u001b[0m\u001b[1;33m\u001b[0m\u001b[1;33m\u001b[0m\u001b[0m\n\u001b[0m",
      "\u001b[1;31mNameError\u001b[0m: name 'roman_int' is not defined"
     ]
    }
   ],
   "source": [
    "s = \"MCMXCIV\"\n",
    "roman_int(s)"
   ]
  },
  {
   "cell_type": "code",
   "execution_count": 1,
   "metadata": {},
   "outputs": [
    {
     "ename": "TypeError",
     "evalue": "append() takes exactly one argument (3 given)",
     "output_type": "error",
     "traceback": [
      "\u001b[1;31m---------------------------------------------------------------------------\u001b[0m",
      "\u001b[1;31mTypeError\u001b[0m                                 Traceback (most recent call last)",
      "\u001b[1;32m<ipython-input-1-e3e56761419c>\u001b[0m in \u001b[0;36m<module>\u001b[1;34m\u001b[0m\n\u001b[0;32m      1\u001b[0m \u001b[0ma\u001b[0m\u001b[1;33m=\u001b[0m \u001b[1;33m[\u001b[0m\u001b[1;33m]\u001b[0m\u001b[1;33m\u001b[0m\u001b[1;33m\u001b[0m\u001b[0m\n\u001b[1;32m----> 2\u001b[1;33m \u001b[0ma\u001b[0m\u001b[1;33m.\u001b[0m\u001b[0mappend\u001b[0m\u001b[1;33m(\u001b[0m\u001b[1;36m1\u001b[0m\u001b[1;33m,\u001b[0m\u001b[1;36m2\u001b[0m\u001b[1;33m,\u001b[0m\u001b[1;36m3\u001b[0m\u001b[1;33m)\u001b[0m\u001b[1;33m\u001b[0m\u001b[1;33m\u001b[0m\u001b[0m\n\u001b[0m",
      "\u001b[1;31mTypeError\u001b[0m: append() takes exactly one argument (3 given)"
     ]
    }
   ],
   "source": [
    "a= []\n",
    "a.append(1,2,3)"
   ]
  },
  {
   "cell_type": "code",
   "execution_count": 4,
   "metadata": {},
   "outputs": [
    {
     "name": "stdout",
     "output_type": "stream",
     "text": [
      "-1 0 1\n",
      "-1 0 2\n",
      "-1 0 -1\n",
      "-1 0 -4\n",
      "-1 1 2\n",
      "-1 1 -1\n",
      "-1 1 -4\n",
      "-1 2 -1\n",
      "-1 2 -4\n",
      "-1 -1 -4\n",
      "0 1 2\n",
      "0 1 -1\n",
      "0 1 -4\n",
      "0 2 -1\n",
      "0 2 -4\n",
      "0 -1 -4\n",
      "1 2 -1\n",
      "1 2 -4\n",
      "1 -1 -4\n",
      "2 -1 -4\n"
     ]
    }
   ],
   "source": [
    "nums = [-1,0,1,2,-1,-4]\n",
    "for i in range(len(nums)):\n",
    "    for j in range(i+1, len(nums)):\n",
    "        for k in range(j+1, len(nums)):\n",
    "            print(nums[i], nums[j], nums[k])"
   ]
  },
  {
   "cell_type": "code",
   "execution_count": 16,
   "metadata": {},
   "outputs": [],
   "source": [
    "nums.sort()"
   ]
  },
  {
   "cell_type": "code",
   "execution_count": 17,
   "metadata": {},
   "outputs": [
    {
     "data": {
      "text/plain": [
       "[-4, -1, -1, 0, 1, 2]"
      ]
     },
     "execution_count": 17,
     "metadata": {},
     "output_type": "execute_result"
    }
   ],
   "source": [
    "nums"
   ]
  },
  {
   "cell_type": "code",
   "execution_count": 46,
   "metadata": {},
   "outputs": [],
   "source": [
    "# returns lists having three elements sum = 0\n",
    "\n",
    "def threeSum(nums):\n",
    "\n",
    "    triplet = set()\n",
    "    \n",
    "    nums.sort()\n",
    "\n",
    "    for i in range(len(nums)):\n",
    "        for j in range(i+1, len(nums)):\n",
    "            for k in range(j+1, len(nums)):\n",
    "                if  (nums[i] + nums[j] + nums[k]==0):\n",
    "                    \n",
    "#                     print(nums[i], nums[j], nums[k])\n",
    "\n",
    "                    triplet.add((nums[i], nums[j], nums[k])) \n",
    "\n",
    "    \n",
    "    out = []\n",
    "    \n",
    "    for i in triplet:\n",
    "        out.append(list(i)) \n",
    "    \n",
    "    return out"
   ]
  },
  {
   "cell_type": "code",
   "execution_count": 50,
   "metadata": {},
   "outputs": [
    {
     "data": {
      "text/plain": [
       "[[0, 0, 0]]"
      ]
     },
     "execution_count": 50,
     "metadata": {},
     "output_type": "execute_result"
    }
   ],
   "source": [
    "nums= [0,0,0]\n",
    "threeSum(nums)"
   ]
  },
  {
   "cell_type": "code",
   "execution_count": 49,
   "metadata": {},
   "outputs": [
    {
     "data": {
      "text/plain": [
       "['a', 'b', 'c']"
      ]
     },
     "execution_count": 49,
     "metadata": {},
     "output_type": "execute_result"
    }
   ],
   "source": [
    "a= \"abc\"\n",
    "list(a)"
   ]
  },
  {
   "cell_type": "code",
   "execution_count": 4,
   "metadata": {},
   "outputs": [],
   "source": [
    "mapping = {\"2\": \"abc\"\n",
    "    , \"3\": \"def\"\n",
    "    , \"4\": \"ghi\"\n",
    "    , \"5\": \"jkl\"\n",
    "    , \"6\": \"mno\"\n",
    "    , \"7\": \"pqrs\"\n",
    "    , \"8\": \"tuv\"\n",
    "    , \"9\": \"wxyz\"\n",
    "}"
   ]
  },
  {
   "cell_type": "code",
   "execution_count": 60,
   "metadata": {},
   "outputs": [
    {
     "data": {
      "text/plain": [
       "(['a', 'b', 'c'], ['d', 'e', 'f'])"
      ]
     },
     "execution_count": 60,
     "metadata": {},
     "output_type": "execute_result"
    }
   ],
   "source": [
    "list(mapping[\"2\"]), list(mapping[\"3\"])"
   ]
  },
  {
   "cell_type": "code",
   "execution_count": 1,
   "metadata": {},
   "outputs": [],
   "source": [
    "def letterCombinations(digits):\n",
    "    keyboard = {\n",
    "        \"2\": \"abc\",\n",
    "        \"3\": \"def\",\n",
    "        \"4\": \"ghi\",\n",
    "        \"5\": \"jkl\",\n",
    "        \"6\": \"mno\",\n",
    "        \"7\": \"pqrs\",\n",
    "        \"8\": \"tuv\",\n",
    "        \"9\": \"wxyz\"\n",
    "    }\n",
    "\n",
    "    if not digits:\n",
    "        return []\n",
    "\n",
    "    result = []\n",
    "\n",
    "    def backtracking(index, combination):\n",
    "        if index == len(digits):\n",
    "            result.append(combination)\n",
    "            return\n",
    "\n",
    "        for letter in keyboard[digits[index]]:\n",
    "            backtracking(index + 1, combination + letter)\n",
    "\n",
    "    backtracking(0, \"\")\n",
    "    return result"
   ]
  },
  {
   "cell_type": "code",
   "execution_count": 3,
   "metadata": {},
   "outputs": [
    {
     "data": {
      "text/plain": [
       "['ad', 'ae', 'af', 'bd', 'be', 'bf', 'cd', 'ce', 'cf']"
      ]
     },
     "execution_count": 3,
     "metadata": {},
     "output_type": "execute_result"
    }
   ],
   "source": [
    "digit= \"23\"\n",
    "letterCombinations(digit)"
   ]
  },
  {
   "cell_type": "code",
   "execution_count": 38,
   "metadata": {},
   "outputs": [],
   "source": [
    "def validparenthesis (s):\n",
    "    \n",
    "    mapping = {'(':')','{':'}','[':']'}\n",
    "    stk = []\n",
    "    \n",
    "    for i in s:\n",
    "        if i in mapping.keys():\n",
    "            stk.append(i)\n",
    "            \n",
    "        elif i in mapping.values() and stk:\n",
    "            prev = stk.pop()\n",
    "            \n",
    "            if mapping[prev] != i:\n",
    "                return False\n",
    "            \n",
    "        else:\n",
    "            return False\n",
    "        \n",
    "    if stk:\n",
    "        return False\n",
    "    else:\n",
    "        return True\n",
    "        "
   ]
  },
  {
   "cell_type": "code",
   "execution_count": 42,
   "metadata": {},
   "outputs": [
    {
     "data": {
      "text/plain": [
       "False"
      ]
     },
     "execution_count": 42,
     "metadata": {},
     "output_type": "execute_result"
    }
   ],
   "source": [
    "s = \"()]\"\n",
    "validparenthesis(s)"
   ]
  },
  {
   "cell_type": "code",
   "execution_count": 44,
   "metadata": {},
   "outputs": [],
   "source": [
    "def removeDuplicates(nums):\n",
    "\n",
    "    s= []\n",
    "\n",
    "    for i in nums:\n",
    "        if i not in s:\n",
    "            s.append(i)\n",
    "\n",
    "    return len(s), s"
   ]
  },
  {
   "cell_type": "code",
   "execution_count": 46,
   "metadata": {},
   "outputs": [
    {
     "data": {
      "text/plain": [
       "(5, [0, 1, 2, 3, 4])"
      ]
     },
     "execution_count": 46,
     "metadata": {},
     "output_type": "execute_result"
    }
   ],
   "source": [
    "nums= [0,0,1,1,1,2,2,3,3,4]\n",
    "removeDuplicates(nums)"
   ]
  },
  {
   "cell_type": "code",
   "execution_count": 76,
   "metadata": {},
   "outputs": [],
   "source": [
    "haystack = \"abcbutsad\"\n",
    "needle = \"sad\""
   ]
  },
  {
   "cell_type": "code",
   "execution_count": 59,
   "metadata": {},
   "outputs": [
    {
     "name": "stdout",
     "output_type": "stream",
     "text": [
      "False\n"
     ]
    }
   ],
   "source": [
    "if needle in haystack:\n",
    "    print(True)\n",
    "else:\n",
    "    print(False)"
   ]
  },
  {
   "cell_type": "code",
   "execution_count": 61,
   "metadata": {},
   "outputs": [
    {
     "data": {
      "text/plain": [
       "6"
      ]
     },
     "execution_count": 61,
     "metadata": {},
     "output_type": "execute_result"
    }
   ],
   "source": [
    "len(haystack) - len(needle)"
   ]
  },
  {
   "cell_type": "code",
   "execution_count": 77,
   "metadata": {},
   "outputs": [],
   "source": [
    "def stringfind(haystack, needle):\n",
    "    s= len(haystack) - len(needle)\n",
    "    \n",
    "    for i in range(s+1):\n",
    "        if haystack[i:i+len(needle)] == needle:\n",
    "            return i\n",
    "        \n",
    "    return -1"
   ]
  },
  {
   "cell_type": "code",
   "execution_count": 78,
   "metadata": {},
   "outputs": [
    {
     "data": {
      "text/plain": [
       "6"
      ]
     },
     "execution_count": 78,
     "metadata": {},
     "output_type": "execute_result"
    }
   ],
   "source": [
    "stringfind(haystack, needle)"
   ]
  },
  {
   "cell_type": "code",
   "execution_count": 75,
   "metadata": {},
   "outputs": [
    {
     "data": {
      "text/plain": [
       "'sad'"
      ]
     },
     "execution_count": 75,
     "metadata": {},
     "output_type": "execute_result"
    }
   ],
   "source": [
    "haystack[6:9]"
   ]
  },
  {
   "cell_type": "code",
   "execution_count": null,
   "metadata": {},
   "outputs": [],
   "source": []
  }
 ],
 "metadata": {
  "kernelspec": {
   "display_name": "Python 3",
   "language": "python",
   "name": "python3"
  },
  "language_info": {
   "codemirror_mode": {
    "name": "ipython",
    "version": 3
   },
   "file_extension": ".py",
   "mimetype": "text/x-python",
   "name": "python",
   "nbconvert_exporter": "python",
   "pygments_lexer": "ipython3",
   "version": "3.7.3"
  }
 },
 "nbformat": 4,
 "nbformat_minor": 2
}
